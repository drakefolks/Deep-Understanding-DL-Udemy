{
 "cells": [
  {
   "cell_type": "code",
   "execution_count": 1,
   "metadata": {},
   "outputs": [],
   "source": [
    "# import needed libraries \n",
    "import numpy as np\n",
    "import torch \n",
    "import torch.nn as nn"
   ]
  },
  {
   "cell_type": "markdown",
   "metadata": {},
   "source": [
    "<center>\n",
    "\n",
    "# Min/Max using numpy\n",
    "\n",
    "<center>"
   ]
  },
  {
   "cell_type": "code",
   "execution_count": 3,
   "metadata": {},
   "outputs": [
    {
     "name": "stdout",
     "output_type": "stream",
     "text": [
      "Min, Max: -4,44\n",
      "Min, Max indices: 3,1\n"
     ]
    }
   ],
   "source": [
    "# creating a vector\n",
    "vector = np.array([2,44,5,-4])\n",
    "\n",
    "# find max min and output\n",
    "minValue = np.min(vector)\n",
    "maxValue = np.max(vector)\n",
    "print(\"Min, Max: %g,%g\" %(minValue, maxValue))\n",
    "\n",
    "# find max min indices and output\n",
    "minIndex = np.argmin(vector)\n",
    "maxIndex = np.argmax(vector)\n",
    "print(\"Min, Max indices: %g,%g\" %(minIndex, maxIndex))"
   ]
  },
  {
   "cell_type": "code",
   "execution_count": 9,
   "metadata": {},
   "outputs": [
    {
     "name": "stdout",
     "output_type": "stream",
     "text": [
      "[[ 1  2 11]\n",
      " [21  9  6]]\n",
      "\n",
      " 1 \n",
      " [1 2 6] \n",
      " [1 6]\n"
     ]
    }
   ],
   "source": [
    "# min maxing with matrix\n",
    "matrix = np.array([ [1,2,11],\n",
    "                    [21,9,6] ])\n",
    "print(matrix)\n",
    "\n",
    "minWholeMatrx = np.min(matrix)\n",
    "minEachColumn = np.min(matrix,axis=0)\n",
    "minEachRow = np.min(matrix,axis=1)\n",
    "\n",
    "print(\"\\n\",minWholeMatrx,\"\\n\",minEachColumn,\"\\n\",minEachRow)"
   ]
  },
  {
   "cell_type": "code",
   "execution_count": 10,
   "metadata": {},
   "outputs": [
    {
     "name": "stdout",
     "output_type": "stream",
     "text": [
      "[[ 1  2 11]\n",
      " [21  9  6]]\n",
      "\n",
      " 0 \n",
      " [0 0 1] \n",
      " [0 2]\n"
     ]
    }
   ],
   "source": [
    "# get the min index\n",
    "print(matrix)\n",
    "\n",
    "minIDXWholeMatrx = np.argmin(matrix)\n",
    "minIDXEachColumn = np.argmin(matrix,axis=0)\n",
    "minIDXEachRow = np.argmin(matrix,axis=1)\n",
    "\n",
    "print(\"\\n\",minIDXWholeMatrx,\"\\n\",minIDXEachColumn,\"\\n\",minIDXEachRow)"
   ]
  },
  {
   "cell_type": "markdown",
   "metadata": {},
   "source": [
    "<center>\n",
    "\n",
    "# Now with pytorch\n",
    "\n",
    "<center>"
   ]
  },
  {
   "cell_type": "code",
   "execution_count": 17,
   "metadata": {},
   "outputs": [
    {
     "name": "stdout",
     "output_type": "stream",
     "text": [
      "Min, Max: -4,44\n",
      "Min, Max indices: 3,1\n"
     ]
    }
   ],
   "source": [
    "# creating tensor\n",
    "tensor = torch.tensor([2,44,5,-4])\n",
    "\n",
    "# find max min and output\n",
    "minValue = torch.min(tensor)\n",
    "maxValue = torch.max(tensor)\n",
    "print(\"Min, Max: %g,%g\" %(minValue, maxValue))\n",
    "\n",
    "# find max min indices and output\n",
    "minIndex = torch.argmin(tensor)\n",
    "maxIndex = torch.argmax(tensor)\n",
    "print(\"Min, Max indices: %g,%g\" %(minIndex, maxIndex))"
   ]
  },
  {
   "cell_type": "code",
   "execution_count": 24,
   "metadata": {},
   "outputs": [
    {
     "name": "stdout",
     "output_type": "stream",
     "text": [
      "tensor([[ 1,  2, 11],\n",
      "        [21,  9,  6]])\n",
      "\n",
      " tensor(1)\n",
      "\n",
      " torch.return_types.min(\n",
      "values=tensor([1, 2, 6]),\n",
      "indices=tensor([0, 0, 1]))\n",
      "\n",
      " torch.return_types.min(\n",
      "values=tensor([1, 6]),\n",
      "indices=tensor([0, 2]))\n"
     ]
    }
   ],
   "source": [
    "# multi-dimensional tensor\n",
    "tensor = torch.tensor([ [1,2,11],\n",
    "                        [21,9,6] ])\n",
    "print(tensor)\n",
    "\n",
    "minWholeMatrx = torch.min(tensor)\n",
    "minEachColumn = torch.min(tensor,axis=0)\n",
    "minEachRow = torch.min(tensor,axis=1)\n",
    "\n",
    "print(\"\\n\",minWholeMatrx)\n",
    "print(\"\\n\",minEachColumn)\n",
    "print(\"\\n\",minEachRow)"
   ]
  }
 ],
 "metadata": {
  "kernelspec": {
   "display_name": "Python 3",
   "language": "python",
   "name": "python3"
  },
  "language_info": {
   "codemirror_mode": {
    "name": "ipython",
    "version": 3
   },
   "file_extension": ".py",
   "mimetype": "text/x-python",
   "name": "python",
   "nbconvert_exporter": "python",
   "pygments_lexer": "ipython3",
   "version": "3.11.4"
  },
  "orig_nbformat": 4
 },
 "nbformat": 4,
 "nbformat_minor": 2
}
