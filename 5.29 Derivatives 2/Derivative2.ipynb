{
 "cells": [
  {
   "cell_type": "code",
   "execution_count": 1,
   "metadata": {},
   "outputs": [],
   "source": [
    "# importing needed libraries \n",
    "import numpy as np\n",
    "import sympy as sym\n",
    "\n",
    "# make equations look nicer\n",
    "from IPython.display import display"
   ]
  },
  {
   "cell_type": "code",
   "execution_count": 2,
   "metadata": {},
   "outputs": [
    {
     "name": "stdout",
     "output_type": "stream",
     "text": [
      "The functions:\n"
     ]
    },
    {
     "data": {
      "text/latex": [
       "$\\displaystyle 2 x^{3}$"
      ],
      "text/plain": [
       "2*x**3"
      ]
     },
     "metadata": {},
     "output_type": "display_data"
    },
    {
     "data": {
      "text/latex": [
       "$\\displaystyle 5 x^{4} - 3 x^{2}$"
      ],
      "text/plain": [
       "5*x**4 - 3*x**2"
      ]
     },
     "metadata": {},
     "output_type": "display_data"
    },
    {
     "name": "stdout",
     "output_type": "stream",
     "text": [
      "\n",
      "Their derivatives:\n"
     ]
    },
    {
     "data": {
      "text/latex": [
       "$\\displaystyle 6 x^{2}$"
      ],
      "text/plain": [
       "6*x**2"
      ]
     },
     "metadata": {},
     "output_type": "display_data"
    },
    {
     "data": {
      "text/latex": [
       "$\\displaystyle 20 x^{3} - 6 x$"
      ],
      "text/plain": [
       "20*x**3 - 6*x"
      ]
     },
     "metadata": {},
     "output_type": "display_data"
    },
    {
     "name": "stdout",
     "output_type": "stream",
     "text": [
      "\n",
      "Manual product rule:\n"
     ]
    },
    {
     "data": {
      "text/latex": [
       "$\\displaystyle 2 x^{3} \\cdot \\left(20 x^{3} - 6 x\\right) + 6 x^{2} \\cdot \\left(5 x^{4} - 3 x^{2}\\right)$"
      ],
      "text/plain": [
       "2*x**3*(20*x**3 - 6*x) + 6*x**2*(5*x**4 - 3*x**2)"
      ]
     },
     "metadata": {},
     "output_type": "display_data"
    },
    {
     "name": "stdout",
     "output_type": "stream",
     "text": [
      "\n",
      "Sympy product rule\n"
     ]
    },
    {
     "data": {
      "text/latex": [
       "$\\displaystyle 2 x^{3} \\cdot \\left(20 x^{3} - 6 x\\right) + 6 x^{2} \\cdot \\left(5 x^{4} - 3 x^{2}\\right)$"
      ],
      "text/plain": [
       "2*x**3*(20*x**3 - 6*x) + 6*x**2*(5*x**4 - 3*x**2)"
      ]
     },
     "metadata": {},
     "output_type": "display_data"
    }
   ],
   "source": [
    "# creating symbolic variables using sympy\n",
    "x = sym.symbols('x')\n",
    "\n",
    "# creating two functions\n",
    "fx = 2*x**3\n",
    "gx = 5*x**4 - 3*x**2\n",
    "\n",
    "# computing individual derivatives \n",
    "df = sym.diff(fx)\n",
    "dg = sym.diff(gx)\n",
    "\n",
    "# apply the product rule manually\n",
    "manualProductRule = df*gx + fx*dg\n",
    "\n",
    "# product rule via sympy\n",
    "sympyProductRule = sym.diff(fx*gx)\n",
    "\n",
    "# showing everything nicely\n",
    "print(\"The functions:\")\n",
    "display(fx)\n",
    "display(gx)\n",
    "print(\"\\nTheir derivatives:\")\n",
    "display(df)\n",
    "display(dg)\n",
    "print(\"\\nManual product rule:\")\n",
    "display(manualProductRule)\n",
    "print(\"\\nSympy product rule\")\n",
    "display(sympyProductRule)"
   ]
  },
  {
   "cell_type": "code",
   "execution_count": 3,
   "metadata": {},
   "outputs": [
    {
     "name": "stdout",
     "output_type": "stream",
     "text": [
      "The function:\n"
     ]
    },
    {
     "data": {
      "text/latex": [
       "$\\displaystyle \\left(4 x^{8} + x^{3}\\right)^{9}$"
      ],
      "text/plain": [
       "(4*x**8 + x**3)**9"
      ]
     },
     "metadata": {},
     "output_type": "display_data"
    },
    {
     "name": "stdout",
     "output_type": "stream",
     "text": [
      "The derivative:\n"
     ]
    },
    {
     "data": {
      "text/latex": [
       "$\\displaystyle \\left(288 x^{7} + 27 x^{2}\\right) \\left(4 x^{8} + x^{3}\\right)^{8}$"
      ],
      "text/plain": [
       "(288*x**7 + 27*x**2)*(4*x**8 + x**3)**8"
      ]
     },
     "metadata": {},
     "output_type": "display_data"
    }
   ],
   "source": [
    "# doing the same with chain rule\n",
    "fx = (x**3 + 4*x**8)**9\n",
    "\n",
    "print(\"The function:\")\n",
    "display(fx)\n",
    "\n",
    "print(\"The derivative:\")\n",
    "display(sym.diff(fx))"
   ]
  }
 ],
 "metadata": {
  "kernelspec": {
   "display_name": "Python 3",
   "language": "python",
   "name": "python3"
  },
  "language_info": {
   "codemirror_mode": {
    "name": "ipython",
    "version": 3
   },
   "file_extension": ".py",
   "mimetype": "text/x-python",
   "name": "python",
   "nbconvert_exporter": "python",
   "pygments_lexer": "ipython3",
   "version": "3.11.4"
  }
 },
 "nbformat": 4,
 "nbformat_minor": 2
}
