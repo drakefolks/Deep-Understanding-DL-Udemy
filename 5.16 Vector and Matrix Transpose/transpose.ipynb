{
 "cells": [
  {
   "cell_type": "code",
   "execution_count": 2,
   "metadata": {},
   "outputs": [],
   "source": [
    "# import needed libraries\n",
    "import numpy as np\n",
    "import torch"
   ]
  },
  {
   "cell_type": "markdown",
   "metadata": {},
   "source": [
    "# Using numpy for transposing"
   ]
  },
  {
   "cell_type": "code",
   "execution_count": 8,
   "metadata": {},
   "outputs": [
    {
     "name": "stdout",
     "output_type": "stream",
     "text": [
      "[[4 3 2 1]] \n",
      "\n",
      "[[4]\n",
      " [3]\n",
      " [2]\n",
      " [1]] \n",
      "\n",
      "[[4 3 2 1]]\n"
     ]
    }
   ],
   "source": [
    "# creating a vector\n",
    "newV = np.array([[4,3,2,1]])\n",
    "print(newV, \"\\n\")\n",
    "\n",
    "# transposing the vector\n",
    "print(newV.T, \"\\n\")\n",
    "\n",
    "# transpose the transpose\n",
    "newVectorT = newV.T\n",
    "print(newVectorT.T)"
   ]
  },
  {
   "cell_type": "code",
   "execution_count": 10,
   "metadata": {},
   "outputs": [
    {
     "name": "stdout",
     "output_type": "stream",
     "text": [
      "[[4 3 2 1]\n",
      " [8 7 6 5]] \n",
      "\n",
      "[[4 8]\n",
      " [3 7]\n",
      " [2 6]\n",
      " [1 5]] \n",
      "\n",
      "[[4 3 2 1]\n",
      " [8 7 6 5]]\n"
     ]
    }
   ],
   "source": [
    "# create the matrix\n",
    "newM = np.array([[4,3,2,1],\n",
    "                 [8,7,6,5]])\n",
    "print(newM, \"\\n\")\n",
    "\n",
    "# transpose the matrix\n",
    "print(newM.T, \"\\n\")\n",
    "\n",
    "# transposing the transpose\n",
    "newMatrixT = newM.T\n",
    "print(newMatrixT.T)"
   ]
  },
  {
   "cell_type": "markdown",
   "metadata": {},
   "source": [
    "# Using pytorch for transposing"
   ]
  },
  {
   "cell_type": "code",
   "execution_count": 15,
   "metadata": {},
   "outputs": [
    {
     "name": "stdout",
     "output_type": "stream",
     "text": [
      "tensor([[4, 3, 2, 1]]) \n",
      "\n",
      "tensor([[4],\n",
      "        [3],\n",
      "        [2],\n",
      "        [1]]) \n",
      "\n",
      "tensor([[4, 3, 2, 1]])\n"
     ]
    }
   ],
   "source": [
    "# create the vector\n",
    "torchV = torch.tensor([[4,3,2,1]])\n",
    "print(torchV, \"\\n\")\n",
    "\n",
    "# transpose the vector \n",
    "print(torchV.T, \"\\n\")\n",
    "\n",
    "# transpose the transpose\n",
    "torchNewT = torchV.T\n",
    "print(torchNewT.T)"
   ]
  },
  {
   "cell_type": "code",
   "execution_count": 16,
   "metadata": {},
   "outputs": [
    {
     "name": "stdout",
     "output_type": "stream",
     "text": [
      "tensor([[4, 3, 2, 1],\n",
      "        [8, 7, 6, 5]]) \n",
      "\n",
      "tensor([[4, 8],\n",
      "        [3, 7],\n",
      "        [2, 6],\n",
      "        [1, 5]]) \n",
      "\n",
      "tensor([[4, 3, 2, 1],\n",
      "        [8, 7, 6, 5]])\n"
     ]
    }
   ],
   "source": [
    "# create the matrix\n",
    "torchM = torch.tensor([[4,3,2,1],\n",
    "                       [8,7,6,5]])\n",
    "print(torchM, \"\\n\")\n",
    "\n",
    "# transpose the matrix \n",
    "print(torchM.T, \"\\n\")\n",
    "\n",
    "# transpose the transpose\n",
    "torchNewT = torchM.T\n",
    "print(torchNewT.T)"
   ]
  }
 ],
 "metadata": {
  "kernelspec": {
   "display_name": "Python 3",
   "language": "python",
   "name": "python3"
  },
  "language_info": {
   "codemirror_mode": {
    "name": "ipython",
    "version": 3
   },
   "file_extension": ".py",
   "mimetype": "text/x-python",
   "name": "python",
   "nbconvert_exporter": "python",
   "pygments_lexer": "ipython3",
   "version": "3.11.4"
  },
  "orig_nbformat": 4
 },
 "nbformat": 4,
 "nbformat_minor": 2
}
