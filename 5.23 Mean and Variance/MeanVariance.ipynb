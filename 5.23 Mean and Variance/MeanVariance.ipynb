{
 "cells": [
  {
   "cell_type": "markdown",
   "metadata": {},
   "source": [
    "<div style='text-align: center;'>\n",
    "\n",
    "# Mean\n",
    "\n",
    "## Formula: $\\bar{x} = n^{-1} \\displaystyle\\sum_{i=1}^{n}x_{i}$\n",
    "\n",
    "<div style='text-align: center;'>\n",
    "    <ul style='text-align: left; display: inline-block;'>\n",
    "        <li>aka arithmetic mean </li>\n",
    "        <li>aka average </li>\n",
    "        <li>Sutiable for roughly normally distributed data</li>\n",
    "        <li>Sutiable for interval and ratio data types</li>\n",
    "    </ul>\n",
    "</div>\n",
    "\n",
    "</div>"
   ]
  },
  {
   "cell_type": "markdown",
   "metadata": {},
   "source": [
    "<div style='text-align: center;'>\n",
    "\n",
    "# Mean-centered Variance\n",
    "\n",
    "## Formula: $\\sigma^{2} = \\frac{1}{n-1} \\displaystyle\\sum_{i=1}^{n}(x_{i}-\\bar{x})^2$\n",
    "\n",
    "<div style='text-align: center;'>\n",
    "    <ul style='text-align: left; display: inline-block;'>\n",
    "        <li>Sutiable for any distribution</li>\n",
    "        <li>Sutiable for numerical and ordinal (requires mean) data types</li>\n",
    "        <li>Indicates the dispersion around the average</li>\n",
    "        <li>Squaring the difference:</li>\n",
    "            <ul style='text-align: left; display: block;'>\n",
    "                <li>is continuous and differentiable</li>\n",
    "                <li>emphasizes large values</li>\n",
    "                <li>is better for optimization</li>\n",
    "                <li>is closer to Euclidean distance</li>\n",
    "            </ul>\n",
    "    </ul>\n",
    "</div>\n",
    "\n",
    "</div>"
   ]
  },
  {
   "cell_type": "markdown",
   "metadata": {},
   "source": [
    "<div style='text-align: center;'>\n",
    "\n",
    "# Standard deviation\n",
    "\n",
    "## Formula: $\\sigma = \\sqrt{\\sigma^2} = \\sqrt{\\frac{1}{n-1} \\displaystyle\\sum_{i=1}^{n}(x_{i}-\\bar{x})^2}$\n",
    "\n",
    "</div>"
   ]
  },
  {
   "cell_type": "markdown",
   "metadata": {},
   "source": [
    "<div style='text-align: center;'>\n",
    "\n",
    "***\n",
    "\n",
    "# Mean and variance computing using numpy\n",
    "\n",
    "</div>"
   ]
  },
  {
   "cell_type": "code",
   "execution_count": 1,
   "metadata": {},
   "outputs": [],
   "source": [
    "# import needed libraries\n",
    "import numpy as np"
   ]
  },
  {
   "cell_type": "code",
   "execution_count": 10,
   "metadata": {},
   "outputs": [
    {
     "name": "stdout",
     "output_type": "stream",
     "text": [
      "Mean 1: 6.666666666666667\n",
      "Mean 2: 6.666666666666667\n",
      "\n",
      "variance 1: 14.26666666666667\n",
      "variance 2: 14.26666666666667\n"
     ]
    }
   ],
   "source": [
    "# create list of numbers to calculate mean and variance on\n",
    "x = [8,6,2,9,3,12]\n",
    "n = len(x)\n",
    "\n",
    "# computing mean\n",
    "mean1 = np.mean(x)\n",
    "mean2 = np.sum(x)/n\n",
    "print(\"Mean 1:\",mean1)\n",
    "print(\"Mean 2:\",mean2)\n",
    "\n",
    "# computing variance\n",
    "variance1 = np.var(x,ddof=1) # need to add degrees of freedom (ddof = 1) argument to compute unbiased variance\n",
    "variance2 = (1/(n-1)) * np.sum((x-mean1)**2)\n",
    "print(\"\\nvariance 1:\",variance1)\n",
    "print(\"variance 2:\",variance2)"
   ]
  }
 ],
 "metadata": {
  "kernelspec": {
   "display_name": "Python 3",
   "language": "python",
   "name": "python3"
  },
  "language_info": {
   "codemirror_mode": {
    "name": "ipython",
    "version": 3
   },
   "file_extension": ".py",
   "mimetype": "text/x-python",
   "name": "python",
   "nbconvert_exporter": "python",
   "pygments_lexer": "ipython3",
   "version": "3.11.4"
  },
  "orig_nbformat": 4
 },
 "nbformat": 4,
 "nbformat_minor": 2
}
