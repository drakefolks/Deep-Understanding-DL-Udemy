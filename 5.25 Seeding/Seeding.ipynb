{
 "cells": [
  {
   "cell_type": "markdown",
   "metadata": {},
   "source": [
    "<div style='text-align: center;'>\n",
    "\n",
    "# Reproducible randomness via seeding \n",
    "\n",
    "</div>"
   ]
  },
  {
   "cell_type": "code",
   "execution_count": 1,
   "metadata": {},
   "outputs": [],
   "source": [
    "# importing needed libraries\n",
    "import numpy as np\n",
    "import torch"
   ]
  },
  {
   "cell_type": "code",
   "execution_count": 4,
   "metadata": {},
   "outputs": [
    {
     "data": {
      "text/plain": [
       "array([ 2.171257  ,  1.15231025, -1.81881234, -0.13804934,  0.53983961])"
      ]
     },
     "execution_count": 4,
     "metadata": {},
     "output_type": "execute_result"
    }
   ],
   "source": [
    "# generating couple random numbers\n",
    "np.random.randn(5)"
   ]
  },
  {
   "cell_type": "code",
   "execution_count": 23,
   "metadata": {},
   "outputs": [
    {
     "name": "stdout",
     "output_type": "stream",
     "text": [
      "[ 0.07942844  2.19020236 -0.13489215  0.16051798  0.44269784]\n",
      "[ 0.62339144  1.00890349  0.39424879 -0.3363867  -0.64590646]\n"
     ]
    }
   ],
   "source": [
    "# repeat after fixing the seed (old method, still commonly used)\n",
    "# every re-run of this code will yield the same values\n",
    "np.random.seed(18)\n",
    "print(np.random.randn(5))\n",
    "print(np.random.randn(5))"
   ]
  },
  {
   "cell_type": "markdown",
   "metadata": {},
   "source": [
    "<div style='text-align: center'>\n",
    "\n",
    "# New, better seed mechanism in numpy\n",
    "\n",
    "</div>"
   ]
  },
  {
   "cell_type": "code",
   "execution_count": 27,
   "metadata": {},
   "outputs": [
    {
     "name": "stdout",
     "output_type": "stream",
     "text": [
      "[ 0.07942844  2.19020236 -0.13489215  0.16051798  0.44269784]\n",
      "[-1.12164477  1.07130533  0.23517718 -0.01281058  0.70088777]\n",
      "[ 0.62339144  1.00890349  0.39424879 -0.3363867  -0.64590646]\n",
      "[-1.22440431 -0.40411698  0.28669081  0.97256366  0.623674  ]\n",
      "[ 0.60136507 -0.56452682 -1.16795166 -1.02200224  0.88351955]\n"
     ]
    }
   ],
   "source": [
    "randomSeed1 = np.random.RandomState(18)\n",
    "randomSeed2 = np.random.RandomState(3305415)\n",
    "\n",
    "print(randomSeed1.randn(5)) # same sequence as above cell\n",
    "print(randomSeed2.randn(5)) # different sequence than above but same each time\n",
    "print(randomSeed1.randn(5)) \n",
    "print(randomSeed2.randn(5)) \n",
    "print(np.random.randn(5))   # different every time"
   ]
  },
  {
   "cell_type": "markdown",
   "metadata": {},
   "source": [
    "<div style='text-align: center'>\n",
    "\n",
    "# Seeds in pytorch\n",
    "\n",
    "</div>"
   ]
  },
  {
   "cell_type": "code",
   "execution_count": 37,
   "metadata": {},
   "outputs": [
    {
     "data": {
      "text/plain": [
       "tensor([ 0.1534, -2.6631, -1.4311, -0.5483,  0.3232])"
      ]
     },
     "execution_count": 37,
     "metadata": {},
     "output_type": "execute_result"
    }
   ],
   "source": [
    "torch.randn(5) # random each time"
   ]
  },
  {
   "cell_type": "code",
   "execution_count": 35,
   "metadata": {},
   "outputs": [
    {
     "name": "stdout",
     "output_type": "stream",
     "text": [
      "tensor([-1.4135,  0.2336,  0.0340,  0.3499, -0.0145])\n",
      "[ 1.13870114  0.67708514  0.30613517 -0.01527223  2.06798861]\n"
     ]
    }
   ],
   "source": [
    "torch.manual_seed(17) # only local to torch, doesn't scope to numpy\n",
    "print(torch.randn(5)) # doesn't change after first run\n",
    "\n",
    "print(np.random.randn(5)) # different each time"
   ]
  }
 ],
 "metadata": {
  "kernelspec": {
   "display_name": "Python 3",
   "language": "python",
   "name": "python3"
  },
  "language_info": {
   "codemirror_mode": {
    "name": "ipython",
    "version": 3
   },
   "file_extension": ".py",
   "mimetype": "text/x-python",
   "name": "python",
   "nbconvert_exporter": "python",
   "pygments_lexer": "ipython3",
   "version": "3.11.4"
  },
  "orig_nbformat": 4
 },
 "nbformat": 4,
 "nbformat_minor": 2
}
