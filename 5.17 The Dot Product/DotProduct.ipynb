{
 "cells": [
  {
   "cell_type": "code",
   "execution_count": 1,
   "metadata": {},
   "outputs": [],
   "source": [
    "# import needed libraries \n",
    "import numpy as np\n",
    "import torch"
   ]
  },
  {
   "cell_type": "markdown",
   "metadata": {},
   "source": [
    "# Using numpy to compute dot product"
   ]
  },
  {
   "cell_type": "code",
   "execution_count": 2,
   "metadata": {},
   "outputs": [
    {
     "name": "stdout",
     "output_type": "stream",
     "text": [
      "51\n",
      "51\n"
     ]
    }
   ],
   "source": [
    "# creating a vector\n",
    "vector1 = np.array([4,3,2,1])\n",
    "vector2 = np.array([9,0,2,11])\n",
    "\n",
    "# dot product with numpy function \n",
    "print(np.dot(vector1,vector2))\n",
    "\n",
    "# dot product with manual computation\n",
    "print(np.sum(vector1*vector2))"
   ]
  },
  {
   "cell_type": "markdown",
   "metadata": {},
   "source": [
    "# Using pytorch to compute dot product"
   ]
  },
  {
   "cell_type": "code",
   "execution_count": 3,
   "metadata": {},
   "outputs": [
    {
     "name": "stdout",
     "output_type": "stream",
     "text": [
      "tensor(51)\n",
      "tensor(51)\n"
     ]
    }
   ],
   "source": [
    "# creating a tensor\n",
    "tensor1 = torch.tensor([4,3,2,1])\n",
    "tensor2 = torch.tensor([9,0,2,11])\n",
    "\n",
    "# dot product with pytorch function \n",
    "print(torch.dot(tensor1,tensor2))\n",
    "\n",
    "# dot product with manual computation\n",
    "print(torch.sum(tensor1*tensor2))"
   ]
  },
  {
   "cell_type": "markdown",
   "metadata": {},
   "source": [
    "# Interpretation of the dot product\n",
    "one number that reflects the commonalities between two mathematical objects\n",
    "- includes vectors, matrices, tensors, signals, images, etc."
   ]
  }
 ],
 "metadata": {
  "kernelspec": {
   "display_name": "Python 3",
   "language": "python",
   "name": "python3"
  },
  "language_info": {
   "codemirror_mode": {
    "name": "ipython",
    "version": 3
   },
   "file_extension": ".py",
   "mimetype": "text/x-python",
   "name": "python",
   "nbconvert_exporter": "python",
   "pygments_lexer": "ipython3",
   "version": "3.11.4"
  },
  "orig_nbformat": 4
 },
 "nbformat": 4,
 "nbformat_minor": 2
}
