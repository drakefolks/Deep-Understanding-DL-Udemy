{
 "cells": [
  {
   "cell_type": "code",
   "execution_count": 45,
   "metadata": {},
   "outputs": [],
   "source": [
    "# import needed libraries \n",
    "import numpy as np\n",
    "import torch"
   ]
  },
  {
   "cell_type": "markdown",
   "metadata": {},
   "source": [
    "# Matrix Multiplication using Numpy"
   ]
  },
  {
   "cell_type": "code",
   "execution_count": 46,
   "metadata": {},
   "outputs": [
    {
     "name": "stdout",
     "output_type": "stream",
     "text": [
      "\n",
      "A\n",
      " [[ 0.84284571 -0.53905509 -1.1219696   0.42076854 -0.67904038]\n",
      " [ 0.92947648 -0.51931632  2.72303544  0.53004809 -1.62294233]]\n",
      "\n",
      "B\n",
      " [[ 0.600661    2.16249643 -1.7089381   0.50682648]\n",
      " [-0.50358287  0.05140932  0.67741377  2.38504788]\n",
      " [ 0.03387629  1.30273256 -0.44944732 -1.15760776]\n",
      " [ 0.90305963  0.64692371  0.20057797 -0.45794387]\n",
      " [-1.5014698  -1.24886323  0.2089804   1.42704882]]\n",
      "\n",
      "C\n",
      " [[ 0.50419749 -0.26659585  1.49009378 -1.3993087 ]\n",
      " [ 1.34873173  0.66336382 -1.94922327 -1.93325859]]\n"
     ]
    }
   ],
   "source": [
    "# creating random matrices \n",
    "# np.random.randn(RowNum, ColumnNum) will return a matrix filled with random floats in the dimension you input\n",
    "matrixA = np.random.randn(2,5) # returns a matrix with 2 rows and 5 columns\n",
    "matrixB = np.random.randn(5,4) # returns a matrix with 5 rows and 4 columns\n",
    "matrixC = np.random.randn(2,4) # returns a matrix with 2 rows and 4 columns\n",
    "\n",
    "print(\"\\nA\\n\",matrixA)\n",
    "print(\"\\nB\\n\", matrixB)\n",
    "print(\"\\nC\\n\",matrixC)"
   ]
  },
  {
   "cell_type": "code",
   "execution_count": 47,
   "metadata": {},
   "outputs": [
    {
     "name": "stdout",
     "output_type": "stream",
     "text": [
      "A x B\n",
      "[[ 2.14  1.45 -1.36 -0.72]\n",
      " [ 3.83  7.9  -3.4  -6.48]]\n",
      "\n",
      "A x B other way\n",
      "[[ 2.14  1.45 -1.36 -0.72]\n",
      " [ 3.83  7.9  -3.4  -6.48]]\n"
     ]
    }
   ],
   "source": [
    "# use @ sign for matrix multiplication shortcut with numpy\n",
    "# np.matmul(A,B) == A@B\n",
    "\n",
    "print(\"A x B\")\n",
    "print(np.round(matrixA@matrixB, 2)) # calculates matrix multiplication and rounds to 2 decimals\n",
    "print(\"\\nA x B other way\")\n",
    "print(np.round(np.matmul(matrixA, matrixB),2))"
   ]
  },
  {
   "cell_type": "code",
   "execution_count": 48,
   "metadata": {},
   "outputs": [
    {
     "name": "stdout",
     "output_type": "stream",
     "text": [
      "B x C^T\n",
      "[[-3.53  4.6 ]\n",
      " [-2.6  -6.58]\n",
      " [ 0.62  4.02]\n",
      " [ 1.22  2.14]\n",
      " [-2.11 -6.02]]\n"
     ]
    }
   ],
   "source": [
    "# incompatible dimensions example\n",
    "# print(\"B x C\")\n",
    "# print(np.round(matrixB@matrixC, 2)) # dimension misalignment\n",
    "\n",
    "# using transpose to get aligned dimensions\n",
    "print(\"B x C^T\")\n",
    "print(np.round(matrixB@matrixC.T, 2))"
   ]
  },
  {
   "cell_type": "markdown",
   "metadata": {},
   "source": [
    "# Matrix Multiplication using Pytorch"
   ]
  },
  {
   "cell_type": "code",
   "execution_count": 49,
   "metadata": {},
   "outputs": [
    {
     "name": "stdout",
     "output_type": "stream",
     "text": [
      "\n",
      "A\n",
      " tensor([[ 0.4840,  0.5935, -0.3984,  0.3251, -1.5931],\n",
      "        [ 0.3392,  1.9246,  1.2867,  0.9914,  1.2558]])\n",
      "\n",
      "B\n",
      " tensor([[-1.3598,  0.6401,  0.0982,  0.2894],\n",
      "        [-1.0565, -0.1219,  0.8383, -0.6852],\n",
      "        [-1.4233,  0.0232,  0.8065,  1.3902],\n",
      "        [ 0.4132,  1.2145, -1.3166,  1.1124],\n",
      "        [-1.1225, -0.9744,  1.3258,  0.0935]])\n",
      "\n",
      "C\n",
      " tensor([[-1.2887, -0.3150,  0.9162,  0.8748],\n",
      "        [-1.0553, -0.1723, -1.0406, -1.0359]])\n"
     ]
    }
   ],
   "source": [
    "# creating random tensors \n",
    "# torch.randn(RowNum, ColumnNum) will return a tensor filled with random floats in the dimension you input\n",
    "tensorA = torch.randn(2,5) # returns a tensor with 2 rows and 5 columns\n",
    "tensorB = torch.randn(5,4) # returns a tensor with 5 rows and 4 columns\n",
    "tensorC = torch.randn(2,4) # returns a tensor with 2 rows and 4 columns\n",
    "\n",
    "\n",
    "print(\"\\nA\\n\",tensorA)\n",
    "print(\"\\nB\\n\", tensorB)\n",
    "print(\"\\nC\\n\",tensorC)"
   ]
  },
  {
   "cell_type": "code",
   "execution_count": 50,
   "metadata": {},
   "outputs": [
    {
     "name": "stdout",
     "output_type": "stream",
     "text": [
      "A x B\n",
      "tensor([[ 1.2000,  2.1800, -2.3200, -0.6100],\n",
      "        [-5.3300, -0.0100,  3.0400,  1.7900]])\n"
     ]
    }
   ],
   "source": [
    "# can use same @ sign notation as in numpy section\n",
    "print(\"A x B\")\n",
    "print(np.round(tensorA@tensorB, 2))"
   ]
  },
  {
   "cell_type": "code",
   "execution_count": 52,
   "metadata": {},
   "outputs": [
    {
     "name": "stdout",
     "output_type": "stream",
     "text": [
      "tensorC x tensorD\n",
      "tensor([[-3.0500,  0.5300,  4.2800, -1.7900, -4.6800],\n",
      "        [-2.3500,  2.1800, -1.3000,  2.1900,  0.7700]])\n"
     ]
    }
   ],
   "source": [
    "# can multiple by numpy matrix, but will need to convert it to a tensor\n",
    "# python can do this automatically in the background, but I'm doing it explicitly for practice\n",
    "matrixD = np.random.randn(4,5)\n",
    "tensorD = torch.tensor(matrixD, dtype=torch.float) # converting numpy matrix to pytorch tensor\n",
    "print(\"tensorC x tensorD\")\n",
    "print(np.round(tensorC@tensorD, 2))"
   ]
  },
  {
   "cell_type": "markdown",
   "metadata": {},
   "source": [
    "# Key take away: Inner dimensions must match to be able to multiple matrices\n",
    "( M1 X *N1* ) ( *M2* X N2 )<br>\n",
    "**N1 must equal M2**<br>\n",
    "Product matrix will be dimension ( M1 X N2 )<br>\n",
    "***\n",
    "EX: <br>\n",
    "Matrix A: 5x**3**<br>\n",
    "Matrix B: **3**x6<br>\n",
    "(5x**3**)(**3**x6)<br>\n",
    "3 == 3<br>\n",
    "Product dimension: 5x6<br>"
   ]
  }
 ],
 "metadata": {
  "kernelspec": {
   "display_name": "Python 3",
   "language": "python",
   "name": "python3"
  },
  "language_info": {
   "codemirror_mode": {
    "name": "ipython",
    "version": 3
   },
   "file_extension": ".py",
   "mimetype": "text/x-python",
   "name": "python",
   "nbconvert_exporter": "python",
   "pygments_lexer": "ipython3",
   "version": "3.11.4"
  },
  "orig_nbformat": 4
 },
 "nbformat": 4,
 "nbformat_minor": 2
}
