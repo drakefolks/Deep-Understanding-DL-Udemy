{
 "cells": [
  {
   "cell_type": "code",
   "execution_count": 1,
   "metadata": {},
   "outputs": [],
   "source": [
    "# import needed libraries\n",
    "import numpy as np\n",
    "import matplotlib.pyplot as plt"
   ]
  },
  {
   "cell_type": "markdown",
   "metadata": {},
   "source": [
    "<center>\n",
    "\n",
    "# Shannon Entropy formula\n",
    "\n",
    "$H(p) = - \\displaystyle\\sum_{x} p(x) log(p(x))$\n",
    "\n",
    "Sum Latex help: https://latex-tutorial.com/sum-latex/\n",
    "<center>"
   ]
  },
  {
   "cell_type": "code",
   "execution_count": 4,
   "metadata": {},
   "outputs": [
    {
     "name": "stdout",
     "output_type": "stream",
     "text": [
      "Wrong entropy: 0.34657359027997264\n"
     ]
    }
   ],
   "source": [
    "# probability of event happening\n",
    "p = .25\n",
    "\n",
    "# INCORRECT formula\n",
    "H = -(p*np.log(p))\n",
    "print(\"Wrong entropy:\", str(H))\n",
    "\n",
    "# the above is incorrect since we left out the probability of the event NOT happening"
   ]
  },
  {
   "cell_type": "code",
   "execution_count": 9,
   "metadata": {},
   "outputs": [
    {
     "name": "stdout",
     "output_type": "stream",
     "text": [
      "Correct entropy: 0.5623351446188083\n",
      "Correct entropy explicit way: 0.5623351446188083\n"
     ]
    }
   ],
   "source": [
    "# probability of event happening\n",
    "p = 0.25\n",
    "q = 1-p \n",
    "\n",
    "x = [p, q]\n",
    "\n",
    "H = 0\n",
    "for probability in x:\n",
    "    H -= probability*np.log(probability)\n",
    "\n",
    "print(\"Correct entropy:\",str(H))\n",
    "\n",
    "\n",
    "# also correct, just explicitly written out for N=2 events\n",
    "\n",
    "H = -(p*np.log(p)+(1-p)*np.log(1-p))\n",
    "print(\"Correct entropy explicit way:\",str(H))"
   ]
  },
  {
   "cell_type": "markdown",
   "metadata": {},
   "source": [
    "<center>\n",
    "\n",
    "# Cross-entropy\n",
    "\n",
    "<center>"
   ]
  },
  {
   "cell_type": "code",
   "execution_count": 11,
   "metadata": {},
   "outputs": [
    {
     "name": "stdout",
     "output_type": "stream",
     "text": [
      "Cross entropy: 1.3862943611198906\n",
      "Correct entropy: 1.3862943611198906\n"
     ]
    }
   ],
   "source": [
    "# all probabilities must sum to 1\n",
    "p = [1, 0]\n",
    "q = [.25,.75]\n",
    "\n",
    "H = 0\n",
    "for i in range(len(p)):\n",
    "    H -= p[i]*np.log(q[i])\n",
    "\n",
    "print(\"Cross entropy:\",str(H))\n",
    "\n",
    "# !--- This is the Binary Cross-Entropy loss function ---! #\n",
    "# also correct, written out for N=2 events\n",
    "H = -(p[0]*np.log(q[0]) + p[1]*np.log(q[1]))\n",
    "print(\"Correct entropy:\",str(H))"
   ]
  },
  {
   "cell_type": "markdown",
   "metadata": {},
   "source": [
    "<center>\n",
    "\n",
    "# Entropy with Pytorch\n",
    "\n",
    "<center>"
   ]
  },
  {
   "cell_type": "code",
   "execution_count": 15,
   "metadata": {},
   "outputs": [
    {
     "data": {
      "text/plain": [
       "tensor(1.3863)"
      ]
     },
     "execution_count": 15,
     "metadata": {},
     "output_type": "execute_result"
    }
   ],
   "source": [
    "# import needed libraries \n",
    "import torch\n",
    "import torch.nn.functional as F \n",
    "\n",
    "# inputs must be tensors\n",
    "q_tensor = torch.Tensor(q)\n",
    "p_tensor = torch.Tensor(p)\n",
    "\n",
    "F.binary_cross_entropy(q_tensor,p_tensor)"
   ]
  },
  {
   "cell_type": "markdown",
   "metadata": {},
   "source": [
    "# Entropy summary:\n",
    "\n",
    "- **High entropy** means that the dataset has a lot of variability\n",
    "- **Low entropy** means that most of the values of the dataset repeat and are redundant\n",
    "- Entropy is **nonlinear** and makes NO assumptions about the distribution\n",
    "\n",
    "\n"
   ]
  }
 ],
 "metadata": {
  "kernelspec": {
   "display_name": "Python 3",
   "language": "python",
   "name": "python3"
  },
  "language_info": {
   "codemirror_mode": {
    "name": "ipython",
    "version": 3
   },
   "file_extension": ".py",
   "mimetype": "text/x-python",
   "name": "python",
   "nbconvert_exporter": "python",
   "pygments_lexer": "ipython3",
   "version": "3.11.4"
  },
  "orig_nbformat": 4
 },
 "nbformat": 4,
 "nbformat_minor": 2
}
